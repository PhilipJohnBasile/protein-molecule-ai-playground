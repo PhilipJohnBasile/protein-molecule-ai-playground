{
  "cells": [
    {
      "cell_type": "markdown",
      "metadata": {},
      "source": [
        "# Analog Generation\n",
        "Generate BRICS analogues scored by the baseline model."
      ]
    },
    {
      "cell_type": "code",
      "execution_count": null,
      "metadata": {},
      "outputs": [],
      "source": [
        "seed_smiles = 'COc1ccc2ncnc(Nc3ccc(OC)cc3)c2cc1OCCCN(CC)CC'\n",
        "!python -m molplay.generate --smiles \"{seed_smiles}\" --top-k 5\n"
      ]
    },
    {
      "cell_type": "code",
      "execution_count": null,
      "metadata": {},
      "outputs": [],
      "source": [
        "import pandas as pd\n",
        "generated = pd.read_csv('../outputs/generated.csv')\n",
        "generated"
      ]
    }
  ],
  "metadata": {
    "kernelspec": {
      "display_name": "Python 3",
      "language": "python",
      "name": "python3"
    },
    "language_info": {
      "name": "python",
      "version": "3.11"
    }
  },
  "nbformat": 4,
  "nbformat_minor": 5
}