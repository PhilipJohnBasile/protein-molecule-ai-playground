{
  "cells": [
    {
      "cell_type": "code",
      "execution_count": null,
      "id": "413fd017",
      "metadata": {},
      "outputs": [
        {
          "name": "stdout",
          "output_type": "stream",
          "text": [
            "/Users/pjb/Git/protein-molecule-ai-playground\n",
            "Raw dataset already exists at data/raw/chembl_kinase_activities.parquet. Use --force to overwrite.\n",
            "[23:17:47] Can't kekulize mol.  Unkekulized atoms: 2 3 4 5 6 7 8 9 19 20 21\n",
            "[23:17:48] Can't kekulize mol.  Unkekulized atoms: 2 3 4 5 6 7 8 9 23 24 25\n",
            "Prepared dataset with 18 rows at data/clean/train.parquet\n"
          ]
        }
      ],
      "source": [
        "import os\n",
        "if os.getcwd().endswith('notebooks'):\n",
        "    %cd ..\n",
        "!python -m molplay.data.fetch --target-family kinase --max-records 5000\n",
        "!python -m molplay.data.prepare\n",
        "!python -m molplay.train --model baseline --seed 42\n"
      ]
    },
    {
      "cell_type": "markdown",
      "id": "670bbfe6",
      "metadata": {},
      "source": [
        "# Analog Generation\n",
        "Generate BRICS analogues scored by the baseline model."
      ]
    },
    {
      "cell_type": "code",
      "execution_count": null,
      "id": "2272ade9",
      "metadata": {},
      "outputs": [],
      "source": [
        "import pandas as pd\n",
        "df = pd.read_parquet('data/clean/train.parquet')\n",
        "seed_smiles = df.sample(1, random_state=42)['smiles'].iloc[0]\n",
        "seed_smiles\n",
        "!python -m molplay.generate --smiles \"{seed_smiles}\" --top-k 5\n"
      ]
    },
    {
      "cell_type": "code",
      "execution_count": null,
      "id": "c6a14483",
      "metadata": {},
      "outputs": [],
      "source": [
        "import pandas as pd\n",
        "generated = pd.read_csv('outputs/generated.csv')\n",
        "generated\n"
      ]
    }
  ],
  "metadata": {
    "kernelspec": {
      "display_name": "Python 3 (ipykernel)",
      "language": "python",
      "name": "python3"
    },
    "language_info": {
      "codemirror_mode": {
        "name": "ipython",
        "version": 3
      },
      "file_extension": ".py",
      "mimetype": "text/x-python",
      "name": "python",
      "nbconvert_exporter": "python",
      "pygments_lexer": "ipython3",
      "version": "3.11.13"
    }
  },
  "nbformat": 4,
  "nbformat_minor": 5
}