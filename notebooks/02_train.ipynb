{
 "cells": [
  {
   "cell_type": "code",
   "execution_count": 1,
   "id": "92f88b4e",
   "metadata": {},
   "outputs": [
    {
     "name": "stdout",
     "output_type": "stream",
     "text": [
      "/Users/pjb/Git/protein-molecule-ai-playground\n",
      "Raw dataset already exists at data/raw/chembl_kinase_activities.parquet. Use --force to overwrite.\n",
      "[23:03:26] Can't kekulize mol.  Unkekulized atoms: 2 3 4 5 6 7 8 9 19 20 21\n",
      "[23:03:26] Can't kekulize mol.  Unkekulized atoms: 2 3 4 5 6 7 8 9 23 24 25\n",
      "Prepared dataset with 18 rows at data/clean/train.parquet\n"
     ]
    }
   ],
   "source": [
    "import os\n",
    "if os.getcwd().endswith('notebooks'):\n",
    "    %cd ..\n",
    "!python -m molplay.data.fetch --target-family kinase --max-records 5000\n",
    "!python -m molplay.data.prepare\n"
   ]
  },
  {
   "cell_type": "markdown",
   "id": "d8c82c95",
   "metadata": {},
   "source": [
    "# Train Models\n",
    "Train baseline and GNN models and review metrics."
   ]
  },
  {
   "cell_type": "code",
   "execution_count": 2,
   "id": "659f9ce4",
   "metadata": {},
   "outputs": [
    {
     "name": "stdout",
     "output_type": "stream",
     "text": [
      "Training baseline random forest...\n",
      "Saved baseline model to outputs/models/baseline_latest.joblib\n",
      "Baseline MAE=0.293 | R2=-2.157 (test set)\n",
      "Saved metrics to outputs/metrics.json\n"
     ]
    }
   ],
   "source": [
    "# Baseline training\n",
    "!python -m molplay.train --model baseline --seed 42\n"
   ]
  },
  {
   "cell_type": "code",
   "execution_count": 3,
   "id": "c7df6714",
   "metadata": {},
   "outputs": [
    {
     "name": "stdout",
     "output_type": "stream",
     "text": [
      "Training GNN model...\n",
      "Epoch 005 | train_loss=0.7294 | valid_mae=5.4482\n",
      "Epoch 010 | train_loss=1.7974 | valid_mae=2.8454\n",
      "Epoch 015 | train_loss=1.9041 | valid_mae=0.8620\n",
      "Epoch 020 | train_loss=0.8643 | valid_mae=0.5315\n",
      "Epoch 025 | train_loss=1.3193 | valid_mae=0.4091\n",
      "Epoch 030 | train_loss=0.7295 | valid_mae=0.6351\n",
      "Epoch 035 | train_loss=1.2364 | valid_mae=0.9848\n",
      "Epoch 040 | train_loss=0.9278 | valid_mae=0.6279\n",
      "Saved GNN model to outputs/models/gnn_latest.pt\n",
      "GNN MAE=0.550 | R2=-19.305 (test set)\n",
      "Saved metrics to outputs/metrics.json\n"
     ]
    }
   ],
   "source": [
    "# GNN training (uses PyTorch Geometric)\n",
    "!python -m molplay.train --model gnn --epochs 40 --batch-size 8 --seed 42\n"
   ]
  },
  {
   "cell_type": "code",
   "execution_count": null,
   "id": "f83d13bb-5707-4a31-bec5-c05228e1f47c",
   "metadata": {},
   "outputs": [],
   "source": []
  }
 ],
 "metadata": {
  "kernelspec": {
   "display_name": "Python 3 (ipykernel)",
   "language": "python",
   "name": "python3"
  },
  "language_info": {
   "codemirror_mode": {
    "name": "ipython",
    "version": 3
   },
   "file_extension": ".py",
   "mimetype": "text/x-python",
   "name": "python",
   "nbconvert_exporter": "python",
   "pygments_lexer": "ipython3",
   "version": "3.11.13"
  }
 },
 "nbformat": 4,
 "nbformat_minor": 5
}
