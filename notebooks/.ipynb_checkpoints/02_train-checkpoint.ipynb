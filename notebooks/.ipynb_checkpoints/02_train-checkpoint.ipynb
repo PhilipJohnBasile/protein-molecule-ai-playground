{
  "cells": [
    {
      "cell_type": "markdown",
      "metadata": {},
      "source": [
        "# Train Models\n",
        "Train baseline and GNN models and review metrics."
      ]
    },
    {
      "cell_type": "code",
      "execution_count": null,
      "metadata": {},
      "outputs": [],
      "source": [
        "# Baseline training\n",
        "!python -m molplay.train --model baseline --seed 42\n"
      ]
    },
    {
      "cell_type": "code",
      "execution_count": null,
      "metadata": {},
      "outputs": [],
      "source": [
        "# GNN training (uses PyTorch Geometric)\n",
        "!python -m molplay.train --model gnn --epochs 40 --batch-size 8 --seed 42\n"
      ]
    }
  ],
  "metadata": {
    "kernelspec": {
      "display_name": "Python 3",
      "language": "python",
      "name": "python3"
    },
    "language_info": {
      "name": "python",
      "version": "3.11"
    }
  },
  "nbformat": 4,
  "nbformat_minor": 5
}